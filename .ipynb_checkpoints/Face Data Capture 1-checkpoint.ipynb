{
 "cells": [
  {
   "cell_type": "code",
   "execution_count": 1,
   "metadata": {},
   "outputs": [
    {
     "name": "stderr",
     "output_type": "stream",
     "text": [
      "Using TensorFlow backend.\n"
     ]
    }
   ],
   "source": [
    "## Ignore all warnings\n",
    "import warnings\n",
    "warnings.filterwarnings('ignore')\n",
    "\n",
    "import tensorflow as tf\n",
    "import keras\n",
    "from keras.models import Sequential\n",
    "from keras.layers import Conv2D, Dense, Activation"
   ]
  },
  {
   "cell_type": "code",
   "execution_count": 2,
   "metadata": {},
   "outputs": [],
   "source": [
    "%matplotlib inline \n",
    "import cv2\n",
    "import time\n",
    "import matplotlib.pyplot\n",
    "from IPython.display import clear_output"
   ]
  },
  {
   "cell_type": "code",
   "execution_count": 3,
   "metadata": {},
   "outputs": [],
   "source": [
    "import os\n",
    "\n",
    "image_dir = './human_faces/'\n",
    "if not os.path.exists(image_dir):\n",
    "    os.makedirs(image_dir)"
   ]
  },
  {
   "cell_type": "code",
   "execution_count": 4,
   "metadata": {},
   "outputs": [],
   "source": [
    "cv2.namedWindow(\"preview\")\n",
    "vidcap = cv2.VideoCapture(0)        \n",
    "\n",
    "clf_xml_dir = '.\\DL_Course-master\\config\\haarcascade_frontalface_default.xml'\n",
    "face_cascade = cv2.CascadeClassifier(clf_xml_dir)\n",
    "\n",
    "def get_face( img ):\n",
    "    faces = face_cascade.detectMultiScale(img, 1.3, 5)\n",
    "    for (x,y,w,h) in faces:\n",
    "        crop_img = img[y:y+h, x:x+w]\n",
    "    if crop_img is None:\n",
    "        return None\n",
    "    else:\n",
    "        return cv2.resize(crop_img, (256, 256))\n"
   ]
  },
  {
   "cell_type": "code",
   "execution_count": null,
   "metadata": {},
   "outputs": [
    {
     "name": "stdout",
     "output_type": "stream",
     "text": [
      "data created...\n",
      "data created...\n",
      "data created...\n",
      "data created...\n",
      "data created...\n",
      "data created...\n",
      "data created...\n",
      "local variable 'crop_img' referenced before assignment\n",
      "data created...\n",
      "data created...\n",
      "data created...\n",
      "data created...\n",
      "data created...\n",
      "data created...\n",
      "data created...\n",
      "data created...\n",
      "data created...\n",
      "data created...\n"
     ]
    }
   ],
   "source": [
    "idx = 11\n",
    "\n",
    "while True:\n",
    "    try:\n",
    "        ret, frame = vidcap.read()\n",
    "        #gray = cv2.cvtColor( frame, cv2.COLOR_BGR2GRAY)\n",
    "        cv2.imshow( 'frame', frame )\n",
    "        # save frame as JPEG file\n",
    "        time.sleep( 0.3 )    \n",
    "        k = cv2.waitKey(1)\n",
    "\n",
    "        if k%256 == 27:\n",
    "            # ESC pressed\n",
    "            print(\"Escape hit, closing...\")\n",
    "            vidcap.release()    \n",
    "            cv2.destroyAllWindows()\n",
    "            break\n",
    "        elif k%256 == 32:\n",
    "            # SPACE pressed\n",
    "\n",
    "            cv2.imwrite( ''.join( [image_dir, \n",
    "                                   \"_frame_\", \"img_\", \n",
    "                                   str(idx), \".jpg\"] ), \n",
    "                        get_face(frame) )            \n",
    "            print(\"data created...\")\n",
    "            idx += 1\n",
    "    except Exception as ex:\n",
    "         print(ex)       "
   ]
  },
  {
   "cell_type": "code",
   "execution_count": null,
   "metadata": {},
   "outputs": [],
   "source": []
  },
  {
   "cell_type": "code",
   "execution_count": null,
   "metadata": {},
   "outputs": [],
   "source": []
  }
 ],
 "metadata": {
  "kernelspec": {
   "display_name": "Python 3",
   "language": "python",
   "name": "python3"
  },
  "language_info": {
   "codemirror_mode": {
    "name": "ipython",
    "version": 3
   },
   "file_extension": ".py",
   "mimetype": "text/x-python",
   "name": "python",
   "nbconvert_exporter": "python",
   "pygments_lexer": "ipython3",
   "version": "3.6.5"
  }
 },
 "nbformat": 4,
 "nbformat_minor": 2
}
