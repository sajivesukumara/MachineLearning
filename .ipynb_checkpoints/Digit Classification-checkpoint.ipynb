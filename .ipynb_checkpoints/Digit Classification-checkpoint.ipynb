{
 "cells": [
  {
   "cell_type": "code",
   "execution_count": 108,
   "metadata": {},
   "outputs": [],
   "source": [
    "import pandas as pd"
   ]
  },
  {
   "cell_type": "code",
   "execution_count": 109,
   "metadata": {},
   "outputs": [],
   "source": [
    "mnist_df = pd.read_csv('./data/mnist.csv')"
   ]
  },
  {
   "cell_type": "code",
   "execution_count": 110,
   "metadata": {},
   "outputs": [],
   "source": [
    "x_vals = mnist_df.iloc[:,1:].values"
   ]
  },
  {
   "cell_type": "code",
   "execution_count": 111,
   "metadata": {},
   "outputs": [
    {
     "data": {
      "text/plain": [
       "Index(['label', 'pixel0', 'pixel1', 'pixel2', 'pixel3', 'pixel4', 'pixel5',\n",
       "       'pixel6', 'pixel7', 'pixel8',\n",
       "       ...\n",
       "       'pixel774', 'pixel775', 'pixel776', 'pixel777', 'pixel778', 'pixel779',\n",
       "       'pixel780', 'pixel781', 'pixel782', 'pixel783'],\n",
       "      dtype='object', length=785)"
      ]
     },
     "execution_count": 111,
     "metadata": {},
     "output_type": "execute_result"
    }
   ],
   "source": [
    "mnist_df.columns"
   ]
  },
  {
   "cell_type": "code",
   "execution_count": 112,
   "metadata": {},
   "outputs": [
    {
     "data": {
      "text/plain": [
       "(42000, 784)"
      ]
     },
     "execution_count": 112,
     "metadata": {},
     "output_type": "execute_result"
    }
   ],
   "source": [
    "x_vals.shape   #No of images : 42000 with 784 pixels"
   ]
  },
  {
   "cell_type": "code",
   "execution_count": 113,
   "metadata": {},
   "outputs": [],
   "source": [
    "y_labels = mnist_df['label'].values"
   ]
  },
  {
   "cell_type": "code",
   "execution_count": 291,
   "metadata": {},
   "outputs": [],
   "source": [
    "import matplotlib.pyplot as plt\n",
    "import seaborn as sn\n",
    "%matplotlib inline\n",
    "import numpy as np"
   ]
  },
  {
   "cell_type": "code",
   "execution_count": 292,
   "metadata": {},
   "outputs": [],
   "source": [
    "def show_image(vals):\n",
    "    plt.imshow(x_vals[vals].reshape(28,28))"
   ]
  },
  {
   "cell_type": "code",
   "execution_count": 293,
   "metadata": {},
   "outputs": [
    {
     "data": {
      "image/png": "[encoded data removed]",
      "text/plain": [
       "<Figure size 432x288 with 1 Axes>"
      ]
     },
     "metadata": {},
     "output_type": "display_data"
    }
   ],
   "source": [
    "show_image(1000)\n",
    "show_image(41999)\n",
    "#show_image(42000)    starts at 0 - 419999\n",
    "\n",
    "#for i in range(1000):\n",
    "#    show_image(i)"
   ]
  },
  {
   "cell_type": "code",
   "execution_count": 294,
   "metadata": {},
   "outputs": [],
   "source": [
    "x_reshaped = np.array([x.reshape(28,28) for x in x_vals])"
   ]
  },
  {
   "cell_type": "code",
   "execution_count": 295,
   "metadata": {},
   "outputs": [
    {
     "data": {
      "text/plain": [
       "(42000, 28, 28)"
      ]
     },
     "execution_count": 295,
     "metadata": {},
     "output_type": "execute_result"
    }
   ],
   "source": [
    "x_reshaped.shape"
   ]
  },
  {
   "cell_type": "code",
   "execution_count": 296,
   "metadata": {},
   "outputs": [],
   "source": [
    "input_shape = (x_reshaped.shape[1], x_reshaped.shape[2])"
   ]
  },
  {
   "cell_type": "code",
   "execution_count": 297,
   "metadata": {},
   "outputs": [
    {
     "data": {
      "text/plain": [
       "array([1, 0, 1, ..., 7, 6, 9], dtype=int64)"
      ]
     },
     "execution_count": 297,
     "metadata": {},
     "output_type": "execute_result"
    }
   ],
   "source": [
    "y_labels"
   ]
  },
  {
   "cell_type": "code",
   "execution_count": 386,
   "metadata": {},
   "outputs": [],
   "source": [
    "import tensorflow as tf\n",
    "import keras as keras\n",
    "\n",
    "y_np_labels = keras.utils.to_categorical(y_labels)\n"
   ]
  },
  {
   "cell_type": "code",
   "execution_count": 387,
   "metadata": {},
   "outputs": [],
   "source": [
    "from sklearn.model_selection import train_test_split\n",
    "x_train, x_test, y_train, y_test = train_test_split(x_reshaped, y_np_labels, test_size = 0.2)"
   ]
  },
  {
   "cell_type": "code",
   "execution_count": 388,
   "metadata": {},
   "outputs": [
    {
     "data": {
      "text/plain": [
       "array([[0., 0., 0., ..., 0., 0., 0.],\n",
       "       [0., 0., 0., ..., 1., 0., 0.],\n",
       "       [0., 0., 0., ..., 0., 0., 0.],\n",
       "       ...,\n",
       "       [0., 0., 0., ..., 0., 0., 0.],\n",
       "       [0., 0., 0., ..., 0., 0., 0.],\n",
       "       [0., 0., 0., ..., 0., 0., 1.]], dtype=float32)"
      ]
     },
     "execution_count": 388,
     "metadata": {},
     "output_type": "execute_result"
    }
   ],
   "source": [
    "y_test"
   ]
  },
  {
   "cell_type": "code",
   "execution_count": 389,
   "metadata": {},
   "outputs": [],
   "source": [
    "from keras.models import Sequential\n",
    "from keras.layers import Dense, Activation, Flatten\n",
    "\n",
    "model_v1 = Sequential()\n",
    "model_v1.add(Dense(64, input_shape = input_shape))\n",
    "model_v1.add(Flatten())\n",
    "model_v1.add(Activation('sigmoid')) \n",
    "model_v1.add(Dense(32))\n",
    "model_v1.add(Activation('sigmoid')) \n",
    "model_v1.add(Dense(10))\n",
    "model_v1.add(Activation('sigmoid')) \n",
    "\n"
   ]
  },
  {
   "cell_type": "code",
   "execution_count": 390,
   "metadata": {},
   "outputs": [],
   "source": [
    "model_v1.compile(optimizer='adam', loss = 'categorical_crossentropy', metrics = ['mse',  'mae', 'mape'])"
   ]
  },
  {
   "cell_type": "code",
   "execution_count": 391,
   "metadata": {},
   "outputs": [],
   "source": [
    "BATCH_SIZE = 64\n",
    "EPOCHS = 10"
   ]
  },
  {
   "cell_type": "code",
   "execution_count": 482,
   "metadata": {},
   "outputs": [
    {
     "name": "stdout",
     "output_type": "stream",
     "text": [
      "Train on 23520 samples, validate on 10080 samples\n",
      "Epoch 1/10\n",
      "23520/23520 [==============================] - 12s 490us/step - loss: 0.0265 - mean_squared_error: 0.0552 - mean_absolute_error: 0.0701 - mean_absolute_percentage_error: 105746.6851 - val_loss: 0.1469 - val_mean_squared_error: 0.0619 - val_mean_absolute_error: 0.0754 - val_mean_absolute_percentage_error: 211298.2900 0.0703 - mean_absolute_percentage_error: 115 - ETA: 4s - loss: 0.0245 - mean_squared_error: 0.0552 - mean_absolute_error: 0.0702 - mean_absolute_percentag - ETA: 4s - l - ETA: 1s - loss: 0.0243 - mean_squared_error: 0.0550 - mean_absolute_error: 0.0700 - mean_absolute_percentage_er - ETA: 1s - loss: 0.0245 - mean_squared_error: 0.0549 - mean_absolute_error: 0.0699 - mean_absolute_percentage_error: 1 - ETA: 1s - loss: 0.0252 - mean_squared_error: 0.0548 - mean_absolute_error: 0.0699 - mean_absolute_perce - ETA: 0s - loss: 0.0258 - mean_squared_error: 0.0550 - mean_absolute_error: 0.0700 - mean_absolute_percentage_error: 105 - ETA: 0s - loss: 0.0260 - mean_squared_error: 0.0550 - mean_absolute_error: 0.0700 - mean_absolute_percentag\n",
      "Epoch 2/10\n",
      "23520/23520 [==============================] - 9s 366us/step - loss: 0.0256 - mean_squared_error: 0.0557 - mean_absolute_error: 0.0704 - mean_absolute_percentage_error: 97374.2854 - val_loss: 0.1350 - val_mean_squared_error: 0.0571 - val_mean_absolute_error: 0.0713 - val_mean_absolute_percentage_error: 202852.6253bsolute_error: 0.\n",
      "Epoch 3/10\n",
      "23520/23520 [==============================] - 5s 223us/step - loss: 0.0212 - mean_squared_error: 0.0543 - mean_absolute_error: 0.0693 - mean_absolute_percentage_error: 88049.0263 - val_loss: 0.1362 - val_mean_squared_error: 0.0537 - val_mean_absolute_error: 0.0686 - val_mean_absolute_percentage_error: 259837.0865- mean_absolute_error: 0.0693 -\n",
      "Epoch 4/10\n",
      "23520/23520 [==============================] - 5s 207us/step - loss: 0.0214 - mean_squared_error: 0.0540 - mean_absolute_error: 0.0688 - mean_absolute_percentage_error: 81949.6028 - val_loss: 0.1360 - val_mean_squared_error: 0.0601 - val_mean_absolute_error: 0.0737 - val_mean_absolute_percentage_error: 171807.0744\n",
      "Epoch 5/10\n",
      "23520/23520 [==============================] - 5s 216us/step - loss: 0.0174 - mean_squared_error: 0.0527 - mean_absolute_error: 0.0677 - mean_absolute_percentage_error: 74167.4361 - val_loss: 0.1444 - val_mean_squared_error: 0.0566 - val_mean_absolute_error: 0.0708 - val_mean_absolute_percentage_error: 184008.4024\n",
      "Epoch 6/10\n",
      "23520/23520 [==============================] - 5s 201us/step - loss: 0.0146 - mean_squared_error: 0.0515 - mean_absolute_error: 0.0665 - mean_absolute_percentage_error: 67412.5104 - val_loss: 0.1391 - val_mean_squared_error: 0.0504 - val_mean_absolute_error: 0.0653 - val_mean_absolute_percentage_error: 225696.0362\n",
      "Epoch 7/10\n",
      "23520/23520 [==============================] - 5s 218us/step - loss: 0.0211 - mean_squared_error: 0.0522 - mean_absolute_error: 0.0670 - mean_absolute_percentage_error: 74453.8577 - val_loss: 0.1393 - val_mean_squared_error: 0.0523 - val_mean_absolute_error: 0.0669 - val_mean_absolute_percentage_error: 200218.6911\n",
      "Epoch 8/10\n",
      "23520/23520 [==============================] - 6s 259us/step - loss: 0.0129 - mean_squared_error: 0.0504 - mean_absolute_error: 0.0654 - mean_absolute_percentage_error: 58901.6719 - val_loss: 0.1440 - val_mean_squared_error: 0.0528 - val_mean_absolute_error: 0.0673 - val_mean_absolute_percentage_error: 180027.7777\n",
      "Epoch 9/10\n",
      "23520/23520 [==============================] - 6s 259us/step - loss: 0.0102 - mean_squared_error: 0.0490 - mean_absolute_error: 0.0642 - mean_absolute_percentage_error: 51130.0724 - val_loss: 0.1346 - val_mean_squared_error: 0.0528 - val_mean_absolute_error: 0.0672 - val_mean_absolute_percentage_error: 196634.4909\n",
      "Epoch 10/10\n",
      "23520/23520 [==============================] - 6s 257us/step - loss: 0.0108 - mean_squared_error: 0.0489 - mean_absolute_error: 0.0639 - mean_absolute_percentage_error: 50129.9097 - val_loss: 0.1452 - val_mean_squared_error: 0.0551 - val_mean_absolute_error: 0.0693 - val_mean_absolute_percentage_error: 162368.4274\n"
     ]
    }
   ],
   "source": [
    "history = model_v1.fit( x_train, \n",
    "    y_train,\n",
    "    batch_size = BATCH_SIZE,                       \n",
    "    epochs = EPOCHS,\n",
    "    validation_split = 0.3,\n",
    "    verbose=1)"
   ]
  },
  {
   "cell_type": "code",
   "execution_count": 331,
   "metadata": {},
   "outputs": [],
   "source": [
    "#history.history"
   ]
  },
  {
   "cell_type": "code",
   "execution_count": 483,
   "metadata": {},
   "outputs": [
    {
     "data": {
      "text/plain": [
       "<Figure size 720x576 with 0 Axes>"
      ]
     },
     "execution_count": 483,
     "metadata": {},
     "output_type": "execute_result"
    },
    {
     "data": {
      "text/plain": [
       "<Figure size 720x576 with 0 Axes>"
      ]
     },
     "metadata": {},
     "output_type": "display_data"
    }
   ],
   "source": [
    "plt.figure(figsize = (10,8))"
   ]
  },
  {
   "cell_type": "code",
   "execution_count": 484,
   "metadata": {},
   "outputs": [],
   "source": [
    "#sn.heatmap(cn, annot=True, fmt='.2f',\n",
    "#          cmap = sn.color.pallette('RdB_r',1) )"
   ]
  },
  {
   "cell_type": "code",
   "execution_count": 485,
   "metadata": {},
   "outputs": [
    {
     "data": {
      "image/png": "[encoded data removed]",
      "text/plain": [
       "<Figure size 432x288 with 1 Axes>"
      ]
     },
     "metadata": {},
     "output_type": "display_data"
    }
   ],
   "source": [
    "plt.plot(history.history['mean_squared_error'])\n",
    "plt.plot(history.history['mean_absolute_error'])\n",
    "plt.plot(history.history['mean_absolute_percentage_error'])\n",
    "#plt.plot(history.history['cosine_proximity'])\n",
    "plt.show()"
   ]
  },
  {
   "cell_type": "code",
   "execution_count": 515,
   "metadata": {},
   "outputs": [],
   "source": [
    "y_test_labels = keras.utils.to_categorical(y_labels)"
   ]
  },
  {
   "cell_type": "code",
   "execution_count": 516,
   "metadata": {},
   "outputs": [
    {
     "data": {
      "text/plain": [
       "array([[0., 1., 0., ..., 0., 0., 0.],\n",
       "       [1., 0., 0., ..., 0., 0., 0.],\n",
       "       [0., 1., 0., ..., 0., 0., 0.],\n",
       "       ...,\n",
       "       [0., 0., 0., ..., 1., 0., 0.],\n",
       "       [0., 0., 0., ..., 0., 0., 0.],\n",
       "       [0., 0., 0., ..., 0., 0., 1.]], dtype=float32)"
      ]
     },
     "execution_count": 516,
     "metadata": {},
     "output_type": "execute_result"
    }
   ],
   "source": [
    "y_test_labels"
   ]
  },
  {
   "cell_type": "code",
   "execution_count": 519,
   "metadata": {
    "scrolled": false
   },
   "outputs": [],
   "source": [
    "#for i,val in enumerate(y_test_labels):\n",
    "#        print(i, val)"
   ]
  },
  {
   "cell_type": "code",
   "execution_count": 520,
   "metadata": {},
   "outputs": [
    {
     "ename": "ValueError",
     "evalue": "The truth value of an array with more than one element is ambiguous. Use a.any() or a.all()",
     "output_type": "error",
     "traceback": [
      "\u001b[1;31m---------------------------------------------------------------------------\u001b[0m",
      "\u001b[1;31mValueError\u001b[0m                                Traceback (most recent call last)",
      "\u001b[1;32m<ipython-input-520-4c0723be567b>\u001b[0m in \u001b[0;36m<module>\u001b[1;34m()\u001b[0m\n\u001b[0;32m      3\u001b[0m \u001b[0mnums\u001b[0m \u001b[1;33m=\u001b[0m \u001b[1;36m20\u001b[0m\u001b[1;33m\u001b[0m\u001b[0m\n\u001b[0;32m      4\u001b[0m \u001b[1;33m\u001b[0m\u001b[0m\n\u001b[1;32m----> 5\u001b[1;33m digit_4_indexes = [i for i,val in enumerate(y_test_labels)\n\u001b[0m\u001b[0;32m      6\u001b[0m                    if val == actual]\n",
      "\u001b[1;32m<ipython-input-520-4c0723be567b>\u001b[0m in \u001b[0;36m<listcomp>\u001b[1;34m(.0)\u001b[0m\n\u001b[0;32m      4\u001b[0m \u001b[1;33m\u001b[0m\u001b[0m\n\u001b[0;32m      5\u001b[0m digit_4_indexes = [i for i,val in enumerate(y_test_labels)\n\u001b[1;32m----> 6\u001b[1;33m                    if val == actual]\n\u001b[0m",
      "\u001b[1;31mValueError\u001b[0m: The truth value of an array with more than one element is ambiguous. Use a.any() or a.all()"
     ]
    }
   ],
   "source": [
    "actual = 3\n",
    "predicted = 3\n",
    "nums = 20\n",
    "\n",
    "digit_4_indexes = [i for i,val in enumerate(y_test_labels)\n",
    "                   if val == actual]\n"
   ]
  },
  {
   "cell_type": "code",
   "execution_count": 521,
   "metadata": {},
   "outputs": [
    {
     "name": "stdout",
     "output_type": "stream",
     "text": [
      "<class 'generator'>\n"
     ]
    }
   ],
   "source": [
    "print (type(digit_4_indexes)) # is a <generator object <genexpr> at 0x0000019F05085780>\n"
   ]
  },
  {
   "cell_type": "code",
   "execution_count": 522,
   "metadata": {},
   "outputs": [
    {
     "ename": "StopIteration",
     "evalue": "",
     "output_type": "error",
     "traceback": [
      "\u001b[1;31m---------------------------------------------------------------------------\u001b[0m",
      "\u001b[1;31mStopIteration\u001b[0m                             Traceback (most recent call last)",
      "\u001b[1;32m<ipython-input-522-7d38206f85a8>\u001b[0m in \u001b[0;36m<module>\u001b[1;34m()\u001b[0m\n\u001b[0;32m      1\u001b[0m \u001b[1;32mfor\u001b[0m \u001b[0mval1\u001b[0m \u001b[1;32min\u001b[0m \u001b[0mrange\u001b[0m\u001b[1;33m(\u001b[0m\u001b[1;36m10\u001b[0m\u001b[1;33m)\u001b[0m\u001b[1;33m:\u001b[0m\u001b[1;33m\u001b[0m\u001b[0m\n\u001b[1;32m----> 2\u001b[1;33m     \u001b[0mprint\u001b[0m\u001b[1;33m(\u001b[0m\u001b[0mnext\u001b[0m\u001b[1;33m(\u001b[0m\u001b[0mdigit_4_indexes\u001b[0m\u001b[1;33m)\u001b[0m\u001b[1;33m)\u001b[0m\u001b[1;33m\u001b[0m\u001b[0m\n\u001b[0m",
      "\u001b[1;31mStopIteration\u001b[0m: "
     ]
    }
   ],
   "source": [
    "for val1 in range(10):\n",
    "    print(next(digit_4_indexes))"
   ]
  },
  {
   "cell_type": "code",
   "execution_count": 523,
   "metadata": {},
   "outputs": [],
   "source": [
    "misclassified_indexes = [ii for ii,val1 in digit_4_indexes \n",
    "                         if y_pred[i] == predicted]"
   ]
  },
  {
   "cell_type": "code",
   "execution_count": 524,
   "metadata": {},
   "outputs": [
    {
     "data": {
      "text/plain": [
       "[]"
      ]
     },
     "execution_count": 524,
     "metadata": {},
     "output_type": "execute_result"
    }
   ],
   "source": [
    "misclassified_indexes"
   ]
  },
  {
   "cell_type": "code",
   "execution_count": 525,
   "metadata": {},
   "outputs": [
    {
     "data": {
      "text/plain": [
       "<Figure size 1080x432 with 0 Axes>"
      ]
     },
     "metadata": {},
     "output_type": "display_data"
    }
   ],
   "source": [
    "kk=1\n",
    "plt.figure(figsize=(15,6))\n",
    "for i in misclassified_indexes[0:nums] :\n",
    "    plt.subplot(2, nums/2, kk);\n",
    "    plt.xticks([])\n",
    "    plt.yticks([])\n",
    "    plt.imshow(x_test[i])\n",
    "    plt.title(str(y_pred[i]) + str())\n",
    "    kk = kk+1\n",
    "    plt.show()"
   ]
  },
  {
   "cell_type": "markdown",
   "metadata": {},
   "source": [
    "## Convolutions"
   ]
  },
  {
   "cell_type": "code",
   "execution_count": 526,
   "metadata": {},
   "outputs": [],
   "source": [
    "top = [[ 1, 1,1 ],\n",
    "      [ 0, 0, 0 ],\n",
    "      [ -1, -1, -1 ]]\n",
    "\n",
    "top_np = np.array(top)"
   ]
  },
  {
   "cell_type": "code",
   "execution_count": 527,
   "metadata": {},
   "outputs": [],
   "source": [
    "from scipy.ndimage.filters import convolve"
   ]
  },
  {
   "cell_type": "code",
   "execution_count": null,
   "metadata": {},
   "outputs": [],
   "source": []
  },
  {
   "cell_type": "code",
   "execution_count": 528,
   "metadata": {},
   "outputs": [
    {
     "data": {
      "text/plain": [
       "<matplotlib.image.AxesImage at 0x19f09579b38>"
      ]
     },
     "execution_count": 528,
     "metadata": {},
     "output_type": "execute_result"
    },
    {
     "data": {
      "image/png": "[encoded data removed]",
      "text/plain": [
       "<Figure size 432x288 with 1 Axes>"
      ]
     },
     "metadata": {},
     "output_type": "display_data"
    }
   ],
   "source": [
    "plt.imshow(x_test[0])"
   ]
  },
  {
   "cell_type": "code",
   "execution_count": 529,
   "metadata": {},
   "outputs": [
    {
     "data": {
      "text/plain": [
       "(28, 28)"
      ]
     },
     "execution_count": 529,
     "metadata": {},
     "output_type": "execute_result"
    }
   ],
   "source": [
    "x_test[0].shape"
   ]
  },
  {
   "cell_type": "code",
   "execution_count": 530,
   "metadata": {},
   "outputs": [],
   "source": [
    "#plt.imread('c:\\test.png')  img_0.shape"
   ]
  },
  {
   "cell_type": "code",
   "execution_count": 531,
   "metadata": {},
   "outputs": [
    {
     "ename": "AttributeError",
     "evalue": "module 'matplotlib.pyplot' has no attribute 'convolve'",
     "output_type": "error",
     "traceback": [
      "\u001b[1;31m---------------------------------------------------------------------------\u001b[0m",
      "\u001b[1;31mAttributeError\u001b[0m                            Traceback (most recent call last)",
      "\u001b[1;32m<ipython-input-531-f3ef212d92a3>\u001b[0m in \u001b[0;36m<module>\u001b[1;34m()\u001b[0m\n\u001b[1;32m----> 1\u001b[1;33m \u001b[0mtop_conv\u001b[0m \u001b[1;33m=\u001b[0m \u001b[0mplt\u001b[0m\u001b[1;33m.\u001b[0m\u001b[0mconvolve\u001b[0m\u001b[1;33m(\u001b[0m\u001b[0mx_test\u001b[0m\u001b[1;33m[\u001b[0m\u001b[1;36m0\u001b[0m\u001b[1;33m]\u001b[0m\u001b[1;33m,\u001b[0m \u001b[0mtop\u001b[0m\u001b[1;33m)\u001b[0m\u001b[1;33m\u001b[0m\u001b[0m\n\u001b[0m",
      "\u001b[1;31mAttributeError\u001b[0m: module 'matplotlib.pyplot' has no attribute 'convolve'"
     ]
    }
   ],
   "source": [
    "top_conv = plt.convolve(x_test[0], top)"
   ]
  },
  {
   "cell_type": "code",
   "execution_count": 532,
   "metadata": {},
   "outputs": [],
   "source": [
    "import tensorflow as tf\n",
    "import keras\n",
    "from keras.models import Sequential\n",
    "from keras.layers import Conv2D, Dense, Activation"
   ]
  },
  {
   "cell_type": "code",
   "execution_count": 533,
   "metadata": {},
   "outputs": [],
   "source": [
    "model_v2 = Sequential()\n",
    "model_v2.add(Conv2D(filters=8,\n",
    "                   kernel_size=(3,3),\n",
    "                   input_shape=(28,28,1)))"
   ]
  },
  {
   "cell_type": "code",
   "execution_count": 534,
   "metadata": {},
   "outputs": [],
   "source": [
    "model_v2.add(Flatten())\n",
    "model_v2.add(Dense(32))\n",
    "model_v2.add(Activation('sigmoid'))\n",
    "model_v2.add(Dense(16))\n",
    "model_v2.add(Activation('sigmoid'))\n",
    "model_v2.add(Dense(10))\n",
    "model_v2.add(Activation('softmax'))"
   ]
  },
  {
   "cell_type": "code",
   "execution_count": 535,
   "metadata": {},
   "outputs": [],
   "source": [
    "model_v2.compile(optimizer='adam', \n",
    "                 loss = 'categorical_crossentropy', \n",
    "                 metrics = ['accuracy'])"
   ]
  },
  {
   "cell_type": "code",
   "execution_count": 555,
   "metadata": {},
   "outputs": [],
   "source": [
    "x_train_reshape = x_train.reshape(x_train.shape[0], 28,28,1)"
   ]
  },
  {
   "cell_type": "code",
   "execution_count": 561,
   "metadata": {},
   "outputs": [],
   "source": [
    "x_train.reshape?"
   ]
  },
  {
   "cell_type": "code",
   "execution_count": 480,
   "metadata": {},
   "outputs": [
    {
     "name": "stdout",
     "output_type": "stream",
     "text": [
      "Train on 23520 samples, validate on 10080 samples\n",
      "Epoch 1/10\n",
      "23520/23520 [==============================] - 25s 1ms/step - loss: 1.8581 - acc: 0.4923 - val_loss: 1.4550 - val_acc: 0.6620\n",
      "Epoch 2/10\n",
      "23520/23520 [==============================] - 15s 653us/step - loss: 1.2158 - acc: 0.7032 - val_loss: 1.0049 - val_acc: 0.7370\n",
      "Epoch 3/10\n",
      "23520/23520 [==============================] - 16s 669us/step - loss: 0.9028 - acc: 0.7587 - val_loss: 0.8510 - val_acc: 0.7674\n",
      "Epoch 4/10\n",
      "23520/23520 [==============================] - 16s 668us/step - loss: 0.7456 - acc: 0.7937 - val_loss: 0.7216 - val_acc: 0.7894\n",
      "Epoch 5/10\n",
      "23520/23520 [==============================] - 17s 702us/step - loss: 0.6867 - acc: 0.7998 - val_loss: 0.6787 - val_acc: 0.8048\n",
      "Epoch 6/10\n",
      "23520/23520 [==============================] - 17s 723us/step - loss: 0.6207 - acc: 0.8177 - val_loss: 0.6369 - val_acc: 0.8079\n",
      "Epoch 7/10\n",
      "23520/23520 [==============================] - 16s 682us/step - loss: 0.5867 - acc: 0.8288 - val_loss: 0.5982 - val_acc: 0.8205\n",
      "Epoch 8/10\n",
      "23520/23520 [==============================] - 15s 638us/step - loss: 0.5400 - acc: 0.8405 - val_loss: 0.5721 - val_acc: 0.8341\n",
      "Epoch 9/10\n",
      "23520/23520 [==============================] - 17s 705us/step - loss: 0.5217 - acc: 0.8468 - val_loss: 0.5384 - val_acc: 0.8376\n",
      "Epoch 10/10\n",
      "23520/23520 [==============================] - 16s 677us/step - loss: 0.4923 - acc: 0.8539 - val_loss: 0.5317 - val_acc: 0.8384\n"
     ]
    }
   ],
   "source": [
    "BATCH_SIZE=64\n",
    "EPOCH =10\n",
    "\n",
    "history = model_v2.fit( x_train_reshape, \n",
    "    y_train,\n",
    "    batch_size = BATCH_SIZE,                       \n",
    "    epochs = EPOCHS,\n",
    "    validation_split = 0.3,\n",
    "    verbose=1)"
   ]
  },
  {
   "cell_type": "code",
   "execution_count": 544,
   "metadata": {},
   "outputs": [
    {
     "name": "stdout",
     "output_type": "stream",
     "text": [
      "_________________________________________________________________\n",
      "Layer (type)                 Output Shape              Param #   \n",
      "=================================================================\n",
      "conv2d_3 (Conv2D)            (None, 26, 26, 8)         80        \n",
      "_________________________________________________________________\n",
      "flatten_16 (Flatten)         (None, 5408)              0         \n",
      "_________________________________________________________________\n",
      "dense_39 (Dense)             (None, 32)                173088    \n",
      "_________________________________________________________________\n",
      "activation_38 (Activation)   (None, 32)                0         \n",
      "_________________________________________________________________\n",
      "dense_40 (Dense)             (None, 16)                528       \n",
      "_________________________________________________________________\n",
      "activation_39 (Activation)   (None, 16)                0         \n",
      "_________________________________________________________________\n",
      "dense_41 (Dense)             (None, 10)                170       \n",
      "_________________________________________________________________\n",
      "activation_40 (Activation)   (None, 10)                0         \n",
      "=================================================================\n",
      "Total params: 173,866\n",
      "Trainable params: 173,866\n",
      "Non-trainable params: 0\n",
      "_________________________________________________________________\n"
     ]
    }
   ],
   "source": [
    "model_v2.summary()"
   ]
  },
  {
   "cell_type": "code",
   "execution_count": 574,
   "metadata": {},
   "outputs": [],
   "source": [
    "from keras.layers import MaxPool2D\n",
    "\n",
    "model_v3 = Sequential()\n",
    "model_v3.add(Conv2D(filters=4,\n",
    "                   kernel_size=(3,3),\n",
    "                   input_shape=(28,28,1)))\n",
    "\n",
    "model_v3.add(MaxPool2D(pool_size=(2,2)))\n",
    "model_v3.add(MaxPool2D(pool_size=(2,2)))\n",
    "\n",
    "# fully connected layers\n",
    "model_v3.add(Flatten())\n",
    "model_v3.add(Dense(32))\n",
    "model_v3.add(Activation('relu'))\n",
    "model_v3.add(Dense(16))\n",
    "model_v3.add(Activation('relu'))\n",
    "model_v3.add(Dense(10))\n",
    "model_v3.add(Activation('softmax'))"
   ]
  },
  {
   "cell_type": "code",
   "execution_count": 575,
   "metadata": {},
   "outputs": [
    {
     "name": "stdout",
     "output_type": "stream",
     "text": [
      "_________________________________________________________________\n",
      "Layer (type)                 Output Shape              Param #   \n",
      "=================================================================\n",
      "conv2d_18 (Conv2D)           (None, 26, 26, 4)         40        \n",
      "_________________________________________________________________\n",
      "max_pooling2d_11 (MaxPooling (None, 13, 13, 4)         0         \n",
      "_________________________________________________________________\n",
      "max_pooling2d_12 (MaxPooling (None, 6, 6, 4)           0         \n",
      "_________________________________________________________________\n",
      "flatten_24 (Flatten)         (None, 144)               0         \n",
      "_________________________________________________________________\n",
      "dense_63 (Dense)             (None, 32)                4640      \n",
      "_________________________________________________________________\n",
      "activation_62 (Activation)   (None, 32)                0         \n",
      "_________________________________________________________________\n",
      "dense_64 (Dense)             (None, 16)                528       \n",
      "_________________________________________________________________\n",
      "activation_63 (Activation)   (None, 16)                0         \n",
      "_________________________________________________________________\n",
      "dense_65 (Dense)             (None, 10)                170       \n",
      "_________________________________________________________________\n",
      "activation_64 (Activation)   (None, 10)                0         \n",
      "=================================================================\n",
      "Total params: 5,378\n",
      "Trainable params: 5,378\n",
      "Non-trainable params: 0\n",
      "_________________________________________________________________\n"
     ]
    }
   ],
   "source": [
    "model_v3.summary()"
   ]
  },
  {
   "cell_type": "code",
   "execution_count": 577,
   "metadata": {},
   "outputs": [],
   "source": [
    "model_v3.compile(optimizer='adam', \n",
    "                 loss = 'categorical_crossentropy', \n",
    "                 metrics = ['accuracy'])"
   ]
  },
  {
   "cell_type": "code",
   "execution_count": null,
   "metadata": {},
   "outputs": [
    {
     "name": "stdout",
     "output_type": "stream",
     "text": [
      "Train on 23520 samples, validate on 10080 samples\n",
      "Epoch 1/10\n",
      "23520/23520 [==============================] - 20s 870us/step - loss: 5.7822 - acc: 0.4509 - val_loss: 1.1016 - val_acc: 0.6655\n",
      "Epoch 2/10\n",
      "23520/23520 [==============================] - 14s 585us/step - loss: 0.7478 - acc: 0.7794 - val_loss: 0.5447 - val_acc: 0.8412.9953 - acc: 0.70 - ETA: 9 - ETA: 5s - loss: 0.8636 - acc:  - - ETA: 0s - loss: 0.7591 - acc: 0. - ETA: 0s - loss: 0.7553 - acc:\n",
      "Epoch 3/10\n",
      "23520/23520 [==============================] - 15s 621us/step - loss: 0.4089 - acc: 0.8845 - val_loss: 0.3605 - val_acc: 0.8981\n",
      "Epoch 4/10\n",
      "23520/23520 [==============================] - 16s 669us/step - loss: 0.3010 - acc: 0.9119 - val_loss: 0.2950 - val_acc: 0.9134\n",
      "Epoch 5/10\n",
      "23520/23520 [==============================] - 16s 694us/step - loss: 0.2424 - acc: 0.9275 - val_loss: 0.2654 - val_acc: 0.9219\n",
      "Epoch 6/10\n",
      " 3008/23520 [==>...........................] - ETA: 11s - loss: 0.2181 - acc: 0.9362"
     ]
    }
   ],
   "source": [
    "BATCH_SIZE=64\n",
    "EPOCH =10\n",
    "\n",
    "history = model_v3.fit( x_train_reshape, \n",
    "    y_train,\n",
    "    batch_size = BATCH_SIZE,                       \n",
    "    epochs = EPOCHS,\n",
    "    validation_split = 0.3,\n",
    "    verbose=1)"
   ]
  },
  {
   "cell_type": "code",
   "execution_count": 564,
   "metadata": {},
   "outputs": [
    {
     "data": {
      "text/plain": [
       "<matplotlib.legend.Legend at 0x19f098fc6d8>"
      ]
     },
     "execution_count": 564,
     "metadata": {},
     "output_type": "execute_result"
    },
    {
     "data": {
      "image/png": "[encoded data removed]",
      "text/plain": [
       "<Figure size 432x288 with 1 Axes>"
      ]
     },
     "metadata": {},
     "output_type": "display_data"
    }
   ],
   "source": [
    "plt.plot(history.history['acc'], label = 'training')\n",
    "plt.plot(history.history['val_acc'], label = 'validation')\n",
    "plt.legend()"
   ]
  },
  {
   "cell_type": "code",
   "execution_count": null,
   "metadata": {},
   "outputs": [],
   "source": []
  }
 ],
 "metadata": {
  "kernelspec": {
   "display_name": "Python 3",
   "language": "python",
   "name": "python3"
  },
  "language_info": {
   "codemirror_mode": {
    "name": "ipython",
    "version": 3
   },
   "file_extension": ".py",
   "mimetype": "text/x-python",
   "name": "python",
   "nbconvert_exporter": "python",
   "pygments_lexer": "ipython3",
   "version": "3.6.5"
  }
 },
 "nbformat": 4,
 "nbformat_minor": 2
}
