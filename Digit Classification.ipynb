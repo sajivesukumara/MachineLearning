{
 "cells": [
  {
   "cell_type": "code",
   "execution_count": 4,
   "metadata": {},
   "outputs": [],
   "source": [
    "import pandas as pd"
   ]
  },
  {
   "cell_type": "code",
   "execution_count": 5,
   "metadata": {},
   "outputs": [],
   "source": [
    "mnist_df = pd.read_csv('./data/mnist.csv')"
   ]
  },
  {
   "cell_type": "code",
   "execution_count": 6,
   "metadata": {},
   "outputs": [],
   "source": [
    "x_vals = mnist_df.iloc[:,1:].values"
   ]
  },
  {
   "cell_type": "code",
   "execution_count": 7,
   "metadata": {},
   "outputs": [
    {
     "data": {
      "text/plain": [
       "Index(['label', 'pixel0', 'pixel1', 'pixel2', 'pixel3', 'pixel4', 'pixel5',\n",
       "       'pixel6', 'pixel7', 'pixel8',\n",
       "       ...\n",
       "       'pixel774', 'pixel775', 'pixel776', 'pixel777', 'pixel778', 'pixel779',\n",
       "       'pixel780', 'pixel781', 'pixel782', 'pixel783'],\n",
       "      dtype='object', length=785)"
      ]
     },
     "execution_count": 7,
     "metadata": {},
     "output_type": "execute_result"
    }
   ],
   "source": [
    "mnist_df.columns"
   ]
  },
  {
   "cell_type": "code",
   "execution_count": 8,
   "metadata": {},
   "outputs": [
    {
     "data": {
      "text/plain": [
       "(42000, 784)"
      ]
     },
     "execution_count": 8,
     "metadata": {},
     "output_type": "execute_result"
    }
   ],
   "source": [
    "x_vals.shape   #No of images : 42000 with 784 pixels"
   ]
  },
  {
   "cell_type": "code",
   "execution_count": 9,
   "metadata": {},
   "outputs": [],
   "source": [
    "y_labels = mnist_df['label'].values"
   ]
  },
  {
   "cell_type": "code",
   "execution_count": 10,
   "metadata": {},
   "outputs": [],
   "source": [
    "import matplotlib.pyplot as plt\n",
    "import seaborn as sn\n",
    "%matplotlib inline\n",
    "import numpy as np"
   ]
  },
  {
   "cell_type": "code",
   "execution_count": 11,
   "metadata": {},
   "outputs": [],
   "source": [
    "def show_image(vals):\n",
    "    plt.imshow(x_vals[vals].reshape(28,28))"
   ]
  },
  {
   "cell_type": "code",
   "execution_count": 12,
   "metadata": {},
   "outputs": [
    {
     "data": {
      "image/png": "[encoded data removed]",
      "text/plain": [
       "<Figure size 432x288 with 1 Axes>"
      ]
     },
     "metadata": {},
     "output_type": "display_data"
    }
   ],
   "source": [
    "show_image(1000)\n",
    "show_image(41999)\n",
    "#show_image(42000)    starts at 0 - 419999\n",
    "\n",
    "#for i in range(1000):\n",
    "#    show_image(i)"
   ]
  },
  {
   "cell_type": "code",
   "execution_count": 13,
   "metadata": {},
   "outputs": [],
   "source": [
    "x_reshaped = np.array([x.reshape(28,28) for x in x_vals])"
   ]
  },
  {
   "cell_type": "code",
   "execution_count": 14,
   "metadata": {},
   "outputs": [
    {
     "data": {
      "text/plain": [
       "(42000, 28, 28)"
      ]
     },
     "execution_count": 14,
     "metadata": {},
     "output_type": "execute_result"
    }
   ],
   "source": [
    "x_reshaped.shape"
   ]
  },
  {
   "cell_type": "code",
   "execution_count": 15,
   "metadata": {},
   "outputs": [],
   "source": [
    "input_shape = (x_reshaped.shape[1], x_reshaped.shape[2])"
   ]
  },
  {
   "cell_type": "code",
   "execution_count": 16,
   "metadata": {},
   "outputs": [
    {
     "data": {
      "text/plain": [
       "array([1, 0, 1, ..., 7, 6, 9], dtype=int64)"
      ]
     },
     "execution_count": 16,
     "metadata": {},
     "output_type": "execute_result"
    }
   ],
   "source": [
    "y_labels"
   ]
  },
  {
   "cell_type": "code",
   "execution_count": 17,
   "metadata": {},
   "outputs": [
    {
     "name": "stderr",
     "output_type": "stream",
     "text": [
      "C:\\Users\\kumasaji\\AppData\\Local\\Continuum\\anaconda3\\lib\\site-packages\\h5py\\__init__.py:36: FutureWarning: Conversion of the second argument of issubdtype from `float` to `np.floating` is deprecated. In future, it will be treated as `np.float64 == np.dtype(float).type`.\n",
      "  from ._conv import register_converters as _register_converters\n",
      "Using TensorFlow backend.\n"
     ]
    }
   ],
   "source": [
    "import tensorflow as tf\n",
    "import keras as keras\n",
    "\n",
    "y_np_labels = keras.utils.to_categorical(y_labels)\n"
   ]
  },
  {
   "cell_type": "code",
   "execution_count": 18,
   "metadata": {},
   "outputs": [],
   "source": [
    "from sklearn.model_selection import train_test_split\n",
    "x_train, x_test, y_train, y_test = train_test_split(x_reshaped, y_np_labels, test_size = 0.2)"
   ]
  },
  {
   "cell_type": "code",
   "execution_count": 19,
   "metadata": {},
   "outputs": [
    {
     "data": {
      "text/plain": [
       "array([[0., 0., 0., ..., 0., 0., 1.],\n",
       "       [0., 1., 0., ..., 0., 0., 0.],\n",
       "       [0., 0., 1., ..., 0., 0., 0.],\n",
       "       ...,\n",
       "       [1., 0., 0., ..., 0., 0., 0.],\n",
       "       [0., 0., 0., ..., 0., 0., 0.],\n",
       "       [0., 0., 1., ..., 0., 0., 0.]], dtype=float32)"
      ]
     },
     "execution_count": 19,
     "metadata": {},
     "output_type": "execute_result"
    }
   ],
   "source": [
    "y_test"
   ]
  },
  {
   "cell_type": "code",
   "execution_count": 20,
   "metadata": {},
   "outputs": [],
   "source": [
    "from keras.models import Sequential\n",
    "from keras.layers import Dense, Activation, Flatten\n",
    "\n",
    "model_v1 = Sequential()\n",
    "model_v1.add(Dense(64, input_shape = input_shape))\n",
    "model_v1.add(Flatten())\n",
    "model_v1.add(Activation('sigmoid')) \n",
    "model_v1.add(Dense(32))\n",
    "model_v1.add(Activation('sigmoid')) \n",
    "model_v1.add(Dense(10))\n",
    "model_v1.add(Activation('sigmoid')) \n",
    "\n"
   ]
  },
  {
   "cell_type": "code",
   "execution_count": 21,
   "metadata": {},
   "outputs": [],
   "source": [
    "model_v1.compile(optimizer='adam', loss = 'categorical_crossentropy', metrics = ['mse',  'mae', 'mape'])"
   ]
  },
  {
   "cell_type": "code",
   "execution_count": 22,
   "metadata": {},
   "outputs": [],
   "source": [
    "BATCH_SIZE = 64\n",
    "EPOCHS = 10"
   ]
  },
  {
   "cell_type": "code",
   "execution_count": 27,
   "metadata": {},
   "outputs": [
    {
     "name": "stdout",
     "output_type": "stream",
     "text": [
      "Train on 23520 samples, validate on 10080 samples\n",
      "Epoch 1/10\n",
      "23520/23520 [==============================] - 6s 253us/step - loss: 1.1655 - mean_squared_error: 0.0763 - mean_absolute_error: 0.1839 - mean_absolute_percentage_error: 128050160.3891 - val_loss: 0.5811 - val_mean_squared_error: 0.0503 - val_mean_absolute_error: 0.0860 - val_mean_absolute_percentage_error: 17234383.7302\n",
      "Epoch 2/10\n",
      "23520/23520 [==============================] - 5s 199us/step - loss: 0.4183 - mean_squared_error: 0.0527 - mean_absolute_error: 0.0800 - mean_absolute_percentage_error: 9160325.7061 - val_loss: 0.3275 - val_mean_squared_error: 0.0550 - val_mean_absolute_error: 0.0775 - val_mean_absolute_percentage_error: 5008731.9365\n",
      "Epoch 3/10\n",
      "23520/23520 [==============================] - 5s 194us/step - loss: 0.2697 - mean_squared_error: 0.0551 - mean_absolute_error: 0.0763 - mean_absolute_percentage_error: 3726477.9776 - val_loss: 0.2482 - val_mean_squared_error: 0.0574 - val_mean_absolute_error: 0.0766 - val_mean_absolute_percentage_error: 2547617.6365\n",
      "Epoch 4/10\n",
      "23520/23520 [==============================] - 5s 198us/step - loss: 0.2084 - mean_squared_error: 0.0568 - mean_absolute_error: 0.0757 - mean_absolute_percentage_error: 2119371.2148 - val_loss: 0.2118 - val_mean_squared_error: 0.0558 - val_mean_absolute_error: 0.0748 - val_mean_absolute_percentage_error: 1920859.0540\n",
      "Epoch 5/10\n",
      "23520/23520 [==============================] - 5s 204us/step - loss: 0.1733 - mean_squared_error: 0.0568 - mean_absolute_error: 0.0750 - mean_absolute_percentage_error: 1498061.9384 - val_loss: 0.1925 - val_mean_squared_error: 0.0579 - val_mean_absolute_error: 0.0757 - val_mean_absolute_percentage_error: 1355991.4393\n",
      "Epoch 6/10\n",
      "23520/23520 [==============================] - 5s 204us/step - loss: 0.1471 - mean_squared_error: 0.0577 - mean_absolute_error: 0.0751 - mean_absolute_percentage_error: 1082376.5514 - val_loss: 0.1750 - val_mean_squared_error: 0.0609 - val_mean_absolute_error: 0.0772 - val_mean_absolute_percentage_error: 955291.1075\n",
      "Epoch 7/10\n",
      "23520/23520 [==============================] - 5s 208us/step - loss: 0.1287 - mean_squared_error: 0.0571 - mean_absolute_error: 0.0743 - mean_absolute_percentage_error: 851955.1262 - val_loss: 0.1619 - val_mean_squared_error: 0.0592 - val_mean_absolute_error: 0.0757 - val_mean_absolute_percentage_error: 844945.7913\n",
      "Epoch 8/10\n",
      "23520/23520 [==============================] - 5s 203us/step - loss: 0.1137 - mean_squared_error: 0.0580 - mean_absolute_error: 0.0746 - mean_absolute_percentage_error: 658027.2008 - val_loss: 0.1490 - val_mean_squared_error: 0.0604 - val_mean_absolute_error: 0.0763 - val_mean_absolute_percentage_error: 612103.9210n_absolute_error: 0.0746 - mean_absolute_percentage_error: 666123.30 - ETA: 2s - loss: 0.1090 - mean_squared_error: 0.0579 - mean_absolute_error: 0.0746 - mea - ETA: 0s - loss: 0.1113 - mean_squared_error: 0.0578 - mean_absolute_error: 0.0745 - mean_absolute\n",
      "Epoch 9/10\n",
      "23520/23520 [==============================] - 5s 234us/step - loss: 0.1005 - mean_squared_error: 0.0579 - mean_absolute_error: 0.0743 - mean_absolute_percentage_error: 529659.2299 - val_loss: 0.1477 - val_mean_squared_error: 0.0591 - val_mean_absolute_error: 0.0752 - val_mean_absolute_percentage_error: 578599.3399\n",
      "Epoch 10/10\n",
      "23520/23520 [==============================] - 6s 249us/step - loss: 0.0906 - mean_squared_error: 0.0583 - mean_absolute_error: 0.0743 - mean_absolute_percentage_error: 447464.4557 - val_loss: 0.1454 - val_mean_squared_error: 0.0621 - val_mean_absolute_error: 0.0770 - val_mean_absolute_percentage_error: 456097.0313\n"
     ]
    }
   ],
   "source": [
    "history = model_v1.fit( x_train, \n",
    "    y_train,\n",
    "    batch_size = BATCH_SIZE,                       \n",
    "    epochs = EPOCHS,\n",
    "    validation_split = 0.3,\n",
    "    verbose=1)"
   ]
  },
  {
   "cell_type": "code",
   "execution_count": 28,
   "metadata": {},
   "outputs": [],
   "source": [
    "#history.history"
   ]
  },
  {
   "cell_type": "code",
   "execution_count": 29,
   "metadata": {},
   "outputs": [
    {
     "data": {
      "text/plain": [
       "<Figure size 720x576 with 0 Axes>"
      ]
     },
     "execution_count": 29,
     "metadata": {},
     "output_type": "execute_result"
    },
    {
     "data": {
      "text/plain": [
       "<Figure size 720x576 with 0 Axes>"
      ]
     },
     "metadata": {},
     "output_type": "display_data"
    }
   ],
   "source": [
    "plt.figure(figsize = (10,8))"
   ]
  },
  {
   "cell_type": "code",
   "execution_count": 30,
   "metadata": {},
   "outputs": [],
   "source": [
    "#sn.heatmap(cn, annot=True, fmt='.2f',\n",
    "#          cmap = sn.color.pallette('RdB_r',1) )"
   ]
  },
  {
   "cell_type": "code",
   "execution_count": 31,
   "metadata": {},
   "outputs": [
    {
     "data": {
      "image/png": "[encoded data removed]",
      "text/plain": [
       "<Figure size 432x288 with 1 Axes>"
      ]
     },
     "metadata": {},
     "output_type": "display_data"
    }
   ],
   "source": [
    "plt.plot(history.history['mean_squared_error'])\n",
    "plt.plot(history.history['mean_absolute_error'])\n",
    "plt.plot(history.history['mean_absolute_percentage_error'])\n",
    "#plt.plot(history.history['cosine_proximity'])\n",
    "plt.show()"
   ]
  },
  {
   "cell_type": "code",
   "execution_count": 32,
   "metadata": {},
   "outputs": [],
   "source": [
    "y_test_labels = keras.utils.to_categorical(y_labels)"
   ]
  },
  {
   "cell_type": "code",
   "execution_count": 33,
   "metadata": {},
   "outputs": [
    {
     "data": {
      "text/plain": [
       "array([[0., 1., 0., ..., 0., 0., 0.],\n",
       "       [1., 0., 0., ..., 0., 0., 0.],\n",
       "       [0., 1., 0., ..., 0., 0., 0.],\n",
       "       ...,\n",
       "       [0., 0., 0., ..., 1., 0., 0.],\n",
       "       [0., 0., 0., ..., 0., 0., 0.],\n",
       "       [0., 0., 0., ..., 0., 0., 1.]], dtype=float32)"
      ]
     },
     "execution_count": 33,
     "metadata": {},
     "output_type": "execute_result"
    }
   ],
   "source": [
    "y_test_labels"
   ]
  },
  {
   "cell_type": "code",
   "execution_count": 34,
   "metadata": {
    "scrolled": false
   },
   "outputs": [],
   "source": [
    "#for i,val in enumerate(y_test_labels):\n",
    "#        print(i, val)"
   ]
  },
  {
   "cell_type": "code",
   "execution_count": 39,
   "metadata": {},
   "outputs": [
    {
     "ename": "ValueError",
     "evalue": "The truth value of an array with more than one element is ambiguous. Use a.any() or a.all()",
     "output_type": "error",
     "traceback": [
      "\u001b[1;31m---------------------------------------------------------------------------\u001b[0m",
      "\u001b[1;31mValueError\u001b[0m                                Traceback (most recent call last)",
      "\u001b[1;32m<ipython-input-39-4c0723be567b>\u001b[0m in \u001b[0;36m<module>\u001b[1;34m()\u001b[0m\n\u001b[0;32m      3\u001b[0m \u001b[0mnums\u001b[0m \u001b[1;33m=\u001b[0m \u001b[1;36m20\u001b[0m\u001b[1;33m\u001b[0m\u001b[0m\n\u001b[0;32m      4\u001b[0m \u001b[1;33m\u001b[0m\u001b[0m\n\u001b[1;32m----> 5\u001b[1;33m digit_4_indexes = [i for i,val in enumerate(y_test_labels)\n\u001b[0m\u001b[0;32m      6\u001b[0m                    if val == actual]\n",
      "\u001b[1;32m<ipython-input-39-4c0723be567b>\u001b[0m in \u001b[0;36m<listcomp>\u001b[1;34m(.0)\u001b[0m\n\u001b[0;32m      4\u001b[0m \u001b[1;33m\u001b[0m\u001b[0m\n\u001b[0;32m      5\u001b[0m digit_4_indexes = [i for i,val in enumerate(y_test_labels)\n\u001b[1;32m----> 6\u001b[1;33m                    if val == actual]\n\u001b[0m",
      "\u001b[1;31mValueError\u001b[0m: The truth value of an array with more than one element is ambiguous. Use a.any() or a.all()"
     ]
    }
   ],
   "source": [
    "actual = 3\n",
    "predicted = 3\n",
    "nums = 20\n",
    "\n",
    "digit_4_indexes = [i for i,val in enumerate(y_test_labels)\n",
    "                   if val == actual]\n"
   ]
  },
  {
   "cell_type": "code",
   "execution_count": 36,
   "metadata": {},
   "outputs": [
    {
     "ename": "NameError",
     "evalue": "name 'digit_4_indexes' is not defined",
     "output_type": "error",
     "traceback": [
      "\u001b[1;31m---------------------------------------------------------------------------\u001b[0m",
      "\u001b[1;31mNameError\u001b[0m                                 Traceback (most recent call last)",
      "\u001b[1;32m<ipython-input-36-4a48fd18f478>\u001b[0m in \u001b[0;36m<module>\u001b[1;34m()\u001b[0m\n\u001b[1;32m----> 1\u001b[1;33m \u001b[0mprint\u001b[0m \u001b[1;33m(\u001b[0m\u001b[0mtype\u001b[0m\u001b[1;33m(\u001b[0m\u001b[0mdigit_4_indexes\u001b[0m\u001b[1;33m)\u001b[0m\u001b[1;33m)\u001b[0m \u001b[1;31m# is a <generator object <genexpr> at 0x0000019F05085780>\u001b[0m\u001b[1;33m\u001b[0m\u001b[0m\n\u001b[0m",
      "\u001b[1;31mNameError\u001b[0m: name 'digit_4_indexes' is not defined"
     ]
    }
   ],
   "source": [
    "print (type(digit_4_indexes)) # is a <generator object <genexpr> at 0x0000019F05085780>\n"
   ]
  },
  {
   "cell_type": "code",
   "execution_count": 37,
   "metadata": {},
   "outputs": [
    {
     "ename": "NameError",
     "evalue": "name 'digit_4_indexes' is not defined",
     "output_type": "error",
     "traceback": [
      "\u001b[1;31m---------------------------------------------------------------------------\u001b[0m",
      "\u001b[1;31mNameError\u001b[0m                                 Traceback (most recent call last)",
      "\u001b[1;32m<ipython-input-37-7d38206f85a8>\u001b[0m in \u001b[0;36m<module>\u001b[1;34m()\u001b[0m\n\u001b[0;32m      1\u001b[0m \u001b[1;32mfor\u001b[0m \u001b[0mval1\u001b[0m \u001b[1;32min\u001b[0m \u001b[0mrange\u001b[0m\u001b[1;33m(\u001b[0m\u001b[1;36m10\u001b[0m\u001b[1;33m)\u001b[0m\u001b[1;33m:\u001b[0m\u001b[1;33m\u001b[0m\u001b[0m\n\u001b[1;32m----> 2\u001b[1;33m     \u001b[0mprint\u001b[0m\u001b[1;33m(\u001b[0m\u001b[0mnext\u001b[0m\u001b[1;33m(\u001b[0m\u001b[0mdigit_4_indexes\u001b[0m\u001b[1;33m)\u001b[0m\u001b[1;33m)\u001b[0m\u001b[1;33m\u001b[0m\u001b[0m\n\u001b[0m",
      "\u001b[1;31mNameError\u001b[0m: name 'digit_4_indexes' is not defined"
     ]
    }
   ],
   "source": [
    "for val1 in range(10):\n",
    "    print(next(digit_4_indexes))"
   ]
  },
  {
   "cell_type": "code",
   "execution_count": 38,
   "metadata": {},
   "outputs": [
    {
     "ename": "NameError",
     "evalue": "name 'digit_4_indexes' is not defined",
     "output_type": "error",
     "traceback": [
      "\u001b[1;31m---------------------------------------------------------------------------\u001b[0m",
      "\u001b[1;31mNameError\u001b[0m                                 Traceback (most recent call last)",
      "\u001b[1;32m<ipython-input-38-4e05ddbed1bf>\u001b[0m in \u001b[0;36m<module>\u001b[1;34m()\u001b[0m\n\u001b[1;32m----> 1\u001b[1;33m misclassified_indexes = [ii for ii,val1 in digit_4_indexes \n\u001b[0m\u001b[0;32m      2\u001b[0m                          if y_pred[i] == predicted]\n",
      "\u001b[1;31mNameError\u001b[0m: name 'digit_4_indexes' is not defined"
     ]
    }
   ],
   "source": [
    "misclassified_indexes = [ii for ii,val1 in digit_4_indexes \n",
    "                         if y_pred[i] == predicted]"
   ]
  },
  {
   "cell_type": "code",
   "execution_count": 524,
   "metadata": {},
   "outputs": [
    {
     "data": {
      "text/plain": [
       "[]"
      ]
     },
     "execution_count": 524,
     "metadata": {},
     "output_type": "execute_result"
    }
   ],
   "source": [
    "misclassified_indexes"
   ]
  },
  {
   "cell_type": "code",
   "execution_count": 2,
   "metadata": {},
   "outputs": [
    {
     "ename": "NameError",
     "evalue": "name 'plt' is not defined",
     "output_type": "error",
     "traceback": [
      "\u001b[1;31m---------------------------------------------------------------------------\u001b[0m",
      "\u001b[1;31mNameError\u001b[0m                                 Traceback (most recent call last)",
      "\u001b[1;32m<ipython-input-2-fd01dcc2c139>\u001b[0m in \u001b[0;36m<module>\u001b[1;34m()\u001b[0m\n\u001b[0;32m      1\u001b[0m \u001b[0mkk\u001b[0m\u001b[1;33m=\u001b[0m\u001b[1;36m1\u001b[0m\u001b[1;33m\u001b[0m\u001b[0m\n\u001b[1;32m----> 2\u001b[1;33m \u001b[0mplt\u001b[0m\u001b[1;33m.\u001b[0m\u001b[0mfigure\u001b[0m\u001b[1;33m(\u001b[0m\u001b[0mfigsize\u001b[0m\u001b[1;33m=\u001b[0m\u001b[1;33m(\u001b[0m\u001b[1;36m15\u001b[0m\u001b[1;33m,\u001b[0m\u001b[1;36m6\u001b[0m\u001b[1;33m)\u001b[0m\u001b[1;33m)\u001b[0m\u001b[1;33m\u001b[0m\u001b[0m\n\u001b[0m\u001b[0;32m      3\u001b[0m \u001b[1;32mfor\u001b[0m \u001b[0mi\u001b[0m \u001b[1;32min\u001b[0m \u001b[0mmisclassified_indexes\u001b[0m\u001b[1;33m[\u001b[0m\u001b[1;36m0\u001b[0m\u001b[1;33m:\u001b[0m\u001b[0mnums\u001b[0m\u001b[1;33m]\u001b[0m \u001b[1;33m:\u001b[0m\u001b[1;33m\u001b[0m\u001b[0m\n\u001b[0;32m      4\u001b[0m     \u001b[0mplt\u001b[0m\u001b[1;33m.\u001b[0m\u001b[0msubplot\u001b[0m\u001b[1;33m(\u001b[0m\u001b[1;36m2\u001b[0m\u001b[1;33m,\u001b[0m \u001b[0mnums\u001b[0m\u001b[1;33m/\u001b[0m\u001b[1;36m2\u001b[0m\u001b[1;33m,\u001b[0m \u001b[0mkk\u001b[0m\u001b[1;33m)\u001b[0m\u001b[1;33m;\u001b[0m\u001b[1;33m\u001b[0m\u001b[0m\n\u001b[0;32m      5\u001b[0m     \u001b[0mplt\u001b[0m\u001b[1;33m.\u001b[0m\u001b[0mxticks\u001b[0m\u001b[1;33m(\u001b[0m\u001b[1;33m[\u001b[0m\u001b[1;33m]\u001b[0m\u001b[1;33m)\u001b[0m\u001b[1;33m\u001b[0m\u001b[0m\n",
      "\u001b[1;31mNameError\u001b[0m: name 'plt' is not defined"
     ]
    }
   ],
   "source": [
    "kk=1\n",
    "plt.figure(figsize=(15,6))\n",
    "for i in misclassified_indexes[0:nums] :\n",
    "    plt.subplot(2, nums/2, kk);\n",
    "    plt.xticks([])\n",
    "    plt.yticks([])\n",
    "    plt.imshow(x_test[i])\n",
    "    plt.title(str(y_pred[i]) + str())\n",
    "    kk = kk+1\n",
    "    plt.show()"
   ]
  },
  {
   "cell_type": "markdown",
   "metadata": {},
   "source": [
    "## Convolutions"
   ]
  },
  {
   "cell_type": "code",
   "execution_count": 40,
   "metadata": {},
   "outputs": [],
   "source": [
    "top = [[ 1, 1,1 ],\n",
    "      [ 0, 0, 0 ],\n",
    "      [ -1, -1, -1 ]]\n",
    "\n",
    "top_np = np.array(top)"
   ]
  },
  {
   "cell_type": "code",
   "execution_count": 41,
   "metadata": {},
   "outputs": [],
   "source": [
    "from scipy.ndimage.filters import convolve"
   ]
  },
  {
   "cell_type": "code",
   "execution_count": null,
   "metadata": {},
   "outputs": [],
   "source": []
  },
  {
   "cell_type": "code",
   "execution_count": 42,
   "metadata": {},
   "outputs": [
    {
     "data": {
      "text/plain": [
       "<matplotlib.image.AxesImage at 0x1d8b0e82a20>"
      ]
     },
     "execution_count": 42,
     "metadata": {},
     "output_type": "execute_result"
    },
    {
     "data": {
      "image/png": "[encoded data removed]",
      "text/plain": [
       "<Figure size 432x288 with 1 Axes>"
      ]
     },
     "metadata": {},
     "output_type": "display_data"
    }
   ],
   "source": [
    "plt.imshow(x_test[0])"
   ]
  },
  {
   "cell_type": "code",
   "execution_count": 529,
   "metadata": {},
   "outputs": [
    {
     "data": {
      "text/plain": [
       "(28, 28)"
      ]
     },
     "execution_count": 529,
     "metadata": {},
     "output_type": "execute_result"
    }
   ],
   "source": [
    "x_test[0].shape"
   ]
  },
  {
   "cell_type": "code",
   "execution_count": 43,
   "metadata": {},
   "outputs": [],
   "source": [
    "#plt.imread('c:\\test.png')  img_0.shape"
   ]
  },
  {
   "cell_type": "code",
   "execution_count": 44,
   "metadata": {},
   "outputs": [
    {
     "ename": "AttributeError",
     "evalue": "module 'matplotlib.pyplot' has no attribute 'convolve'",
     "output_type": "error",
     "traceback": [
      "\u001b[1;31m---------------------------------------------------------------------------\u001b[0m",
      "\u001b[1;31mAttributeError\u001b[0m                            Traceback (most recent call last)",
      "\u001b[1;32m<ipython-input-44-f3ef212d92a3>\u001b[0m in \u001b[0;36m<module>\u001b[1;34m()\u001b[0m\n\u001b[1;32m----> 1\u001b[1;33m \u001b[0mtop_conv\u001b[0m \u001b[1;33m=\u001b[0m \u001b[0mplt\u001b[0m\u001b[1;33m.\u001b[0m\u001b[0mconvolve\u001b[0m\u001b[1;33m(\u001b[0m\u001b[0mx_test\u001b[0m\u001b[1;33m[\u001b[0m\u001b[1;36m0\u001b[0m\u001b[1;33m]\u001b[0m\u001b[1;33m,\u001b[0m \u001b[0mtop\u001b[0m\u001b[1;33m)\u001b[0m\u001b[1;33m\u001b[0m\u001b[0m\n\u001b[0m",
      "\u001b[1;31mAttributeError\u001b[0m: module 'matplotlib.pyplot' has no attribute 'convolve'"
     ]
    }
   ],
   "source": [
    "top_conv = plt.convolve(x_test[0], top)"
   ]
  },
  {
   "cell_type": "code",
   "execution_count": 45,
   "metadata": {},
   "outputs": [],
   "source": [
    "import tensorflow as tf\n",
    "import keras\n",
    "from keras.models import Sequential\n",
    "from keras.layers import Conv2D, Dense, Activation"
   ]
  },
  {
   "cell_type": "code",
   "execution_count": 46,
   "metadata": {},
   "outputs": [],
   "source": [
    "model_v2 = Sequential()\n",
    "model_v2.add(Conv2D(filters=8,\n",
    "                   kernel_size=(3,3),\n",
    "                   input_shape=(28,28,1)))"
   ]
  },
  {
   "cell_type": "code",
   "execution_count": 47,
   "metadata": {},
   "outputs": [],
   "source": [
    "model_v2.add(Flatten())\n",
    "model_v2.add(Dense(32))\n",
    "model_v2.add(Activation('sigmoid'))\n",
    "model_v2.add(Dense(16))\n",
    "model_v2.add(Activation('sigmoid'))\n",
    "model_v2.add(Dense(10))\n",
    "model_v2.add(Activation('softmax'))"
   ]
  },
  {
   "cell_type": "code",
   "execution_count": 48,
   "metadata": {},
   "outputs": [],
   "source": [
    "model_v2.compile(optimizer='adam', \n",
    "                 loss = 'categorical_crossentropy', \n",
    "                 metrics = ['accuracy'])"
   ]
  },
  {
   "cell_type": "code",
   "execution_count": 49,
   "metadata": {},
   "outputs": [],
   "source": [
    "x_train_reshape = x_train.reshape(x_train.shape[0], 28,28,1)"
   ]
  },
  {
   "cell_type": "code",
   "execution_count": 50,
   "metadata": {},
   "outputs": [],
   "source": [
    "x_train.reshape?"
   ]
  },
  {
   "cell_type": "code",
   "execution_count": 56,
   "metadata": {},
   "outputs": [
    {
     "name": "stdout",
     "output_type": "stream",
     "text": [
      "Train on 23520 samples, validate on 10080 samples\n",
      "Epoch 1/10\n",
      "23520/23520 [==============================] - 25s 1ms/step - loss: 0.5275 - acc: 0.8417 - val_loss: 0.5325 - val_acc: 0.8351\n",
      "Epoch 2/10\n",
      "23520/23520 [==============================] - 19s 802us/step - loss: 0.5182 - acc: 0.8429 - val_loss: 0.5429 - val_acc: 0.8326\n",
      "Epoch 3/10\n",
      "23520/23520 [==============================] - 18s 777us/step - loss: 0.5177 - acc: 0.8415 - val_loss: 0.5421 - val_acc: 0.8329\n",
      "Epoch 4/10\n",
      "23520/23520 [==============================] - 17s 714us/step - loss: 0.5159 - acc: 0.8439 - val_loss: 0.5163 - val_acc: 0.8438\n",
      "Epoch 5/10\n",
      "23520/23520 [==============================] - 16s 689us/step - loss: 0.4808 - acc: 0.8527 - val_loss: 0.4947 - val_acc: 0.8475\n",
      "Epoch 6/10\n",
      "23520/23520 [==============================] - 16s 665us/step - loss: 0.4540 - acc: 0.8637 - val_loss: 0.4681 - val_acc: 0.8588\n",
      "Epoch 7/10\n",
      "23520/23520 [==============================] - 22s 921us/step - loss: 0.4683 - acc: 0.8587 - val_loss: 0.4836 - val_acc: 0.8536 0.4684 - acc: 0. - ETA: 0s - loss: 0.4682 - acc: \n",
      "Epoch 8/10\n",
      "23520/23520 [==============================] - 20s 845us/step - loss: 0.4988 - acc: 0.8476 - val_loss: 0.4932 - val_acc: 0.8496\n",
      "Epoch 9/10\n",
      "23520/23520 [==============================] - 18s 746us/step - loss: 0.4775 - acc: 0.8554 - val_loss: 0.4806 - val_acc: 0.8565\n",
      "Epoch 10/10\n",
      "23520/23520 [==============================] - 19s 824us/step - loss: 0.4734 - acc: 0.8550 - val_loss: 0.4628 - val_acc: 0.8587\n"
     ]
    }
   ],
   "source": [
    "BATCH_SIZE=64\n",
    "EPOCH =10\n",
    "\n",
    "history = model_v2.fit( x_train_reshape, \n",
    "    y_train,\n",
    "    batch_size = BATCH_SIZE,                       \n",
    "    epochs = EPOCHS,\n",
    "    validation_split = 0.3,\n",
    "    verbose=1)"
   ]
  },
  {
   "cell_type": "code",
   "execution_count": 57,
   "metadata": {},
   "outputs": [
    {
     "name": "stdout",
     "output_type": "stream",
     "text": [
      "_________________________________________________________________\n",
      "Layer (type)                 Output Shape              Param #   \n",
      "=================================================================\n",
      "conv2d_1 (Conv2D)            (None, 26, 26, 8)         80        \n",
      "_________________________________________________________________\n",
      "flatten_2 (Flatten)          (None, 5408)              0         \n",
      "_________________________________________________________________\n",
      "dense_4 (Dense)              (None, 32)                173088    \n",
      "_________________________________________________________________\n",
      "activation_4 (Activation)    (None, 32)                0         \n",
      "_________________________________________________________________\n",
      "dense_5 (Dense)              (None, 16)                528       \n",
      "_________________________________________________________________\n",
      "activation_5 (Activation)    (None, 16)                0         \n",
      "_________________________________________________________________\n",
      "dense_6 (Dense)              (None, 10)                170       \n",
      "_________________________________________________________________\n",
      "activation_6 (Activation)    (None, 10)                0         \n",
      "=================================================================\n",
      "Total params: 173,866\n",
      "Trainable params: 173,866\n",
      "Non-trainable params: 0\n",
      "_________________________________________________________________\n"
     ]
    }
   ],
   "source": [
    "model_v2.summary()"
   ]
  },
  {
   "cell_type": "code",
   "execution_count": 58,
   "metadata": {},
   "outputs": [],
   "source": [
    "from keras.layers import MaxPool2D\n",
    "\n",
    "model_v3 = Sequential()\n",
    "model_v3.add(Conv2D(filters=4,\n",
    "                   kernel_size=(3,3),\n",
    "                   input_shape=(28,28,1)))\n",
    "\n",
    "model_v3.add(MaxPool2D(pool_size=(2,2)))\n",
    "\n",
    "model_v3.add(Conv2D(filters=4,\n",
    "                   kernel_size=(3,3),\n",
    "                   input_shape=(28,28,1)))\n",
    "model_v3.add(MaxPool2D(pool_size=(2,2)))\n",
    "\n",
    "# fully connected layers\n",
    "model_v3.add(Flatten())\n",
    "model_v3.add(Dense(32))\n",
    "model_v3.add(Activation('relu'))\n",
    "model_v3.add(Dense(16))\n",
    "model_v3.add(Activation('relu'))\n",
    "model_v3.add(Dense(10))\n",
    "model_v3.add(Activation('softmax'))"
   ]
  },
  {
   "cell_type": "code",
   "execution_count": 59,
   "metadata": {},
   "outputs": [
    {
     "name": "stdout",
     "output_type": "stream",
     "text": [
      "_________________________________________________________________\n",
      "Layer (type)                 Output Shape              Param #   \n",
      "=================================================================\n",
      "conv2d_4 (Conv2D)            (None, 26, 26, 4)         40        \n",
      "_________________________________________________________________\n",
      "max_pooling2d_3 (MaxPooling2 (None, 13, 13, 4)         0         \n",
      "_________________________________________________________________\n",
      "conv2d_5 (Conv2D)            (None, 11, 11, 4)         148       \n",
      "_________________________________________________________________\n",
      "max_pooling2d_4 (MaxPooling2 (None, 5, 5, 4)           0         \n",
      "_________________________________________________________________\n",
      "flatten_4 (Flatten)          (None, 100)               0         \n",
      "_________________________________________________________________\n",
      "dense_10 (Dense)             (None, 32)                3232      \n",
      "_________________________________________________________________\n",
      "activation_10 (Activation)   (None, 32)                0         \n",
      "_________________________________________________________________\n",
      "dense_11 (Dense)             (None, 16)                528       \n",
      "_________________________________________________________________\n",
      "activation_11 (Activation)   (None, 16)                0         \n",
      "_________________________________________________________________\n",
      "dense_12 (Dense)             (None, 10)                170       \n",
      "_________________________________________________________________\n",
      "activation_12 (Activation)   (None, 10)                0         \n",
      "=================================================================\n",
      "Total params: 4,118\n",
      "Trainable params: 4,118\n",
      "Non-trainable params: 0\n",
      "_________________________________________________________________\n"
     ]
    }
   ],
   "source": [
    "model_v3.summary()"
   ]
  },
  {
   "cell_type": "code",
   "execution_count": 60,
   "metadata": {},
   "outputs": [],
   "source": [
    "model_v3.compile(optimizer='adam', \n",
    "                 loss = 'categorical_crossentropy', \n",
    "                 metrics = ['accuracy'])"
   ]
  },
  {
   "cell_type": "code",
   "execution_count": 61,
   "metadata": {},
   "outputs": [
    {
     "name": "stdout",
     "output_type": "stream",
     "text": [
      "Train on 23520 samples, validate on 10080 samples\n",
      "Epoch 1/10\n",
      "23520/23520 [==============================] - 20s 839us/step - loss: 5.4057 - acc: 0.2342 - val_loss: 1.8536 - val_acc: 0.3652\n",
      "Epoch 2/10\n",
      "23520/23520 [==============================] - 20s 867us/step - loss: 1.4008 - acc: 0.5520 - val_loss: 1.1466 - val_acc: 0.6090\n",
      "Epoch 3/10\n",
      "23520/23520 [==============================] - 20s 842us/step - loss: 0.9794 - acc: 0.6894 - val_loss: 0.8753 - val_acc: 0.7340\n",
      "Epoch 4/10\n",
      "23520/23520 [==============================] - 17s 709us/step - loss: 0.7564 - acc: 0.7762 - val_loss: 0.6573 - val_acc: 0.8229\n",
      "Epoch 5/10\n",
      "23520/23520 [==============================] - 17s 734us/step - loss: 0.5474 - acc: 0.8665 - val_loss: 0.4622 - val_acc: 0.8867\n",
      "Epoch 6/10\n",
      "23520/23520 [==============================] - 17s 741us/step - loss: 0.3987 - acc: 0.9045 - val_loss: 0.3779 - val_acc: 0.9064\n",
      "Epoch 7/10\n",
      "23520/23520 [==============================] - 18s 784us/step - loss: 0.2939 - acc: 0.9194 - val_loss: 0.2873 - val_acc: 0.9213\n",
      "Epoch 8/10\n",
      "23520/23520 [==============================] - 17s 702us/step - loss: 0.2288 - acc: 0.9344 - val_loss: 0.2289 - val_acc: 0.9337\n",
      "Epoch 9/10\n",
      "23520/23520 [==============================] - 17s 703us/step - loss: 0.1916 - acc: 0.9429 - val_loss: 0.2196 - val_acc: 0.9377\n",
      "Epoch 10/10\n",
      "23520/23520 [==============================] - 16s 694us/step - loss: 0.1669 - acc: 0.9512 - val_loss: 0.1848 - val_acc: 0.9514\n"
     ]
    }
   ],
   "source": [
    "BATCH_SIZE=64\n",
    "EPOCH =10\n",
    "\n",
    "history = model_v3.fit( x_train_reshape, \n",
    "    y_train,\n",
    "    batch_size = BATCH_SIZE,                       \n",
    "    epochs = EPOCHS,\n",
    "    validation_split = 0.3,\n",
    "    verbose=1)"
   ]
  },
  {
   "cell_type": "code",
   "execution_count": 62,
   "metadata": {},
   "outputs": [
    {
     "data": {
      "text/plain": [
       "<matplotlib.legend.Legend at 0x1d8b133fa90>"
      ]
     },
     "execution_count": 62,
     "metadata": {},
     "output_type": "execute_result"
    },
    {
     "data": {
      "image/png": "[encoded data removed]",
      "text/plain": [
       "<Figure size 432x288 with 1 Axes>"
      ]
     },
     "metadata": {},
     "output_type": "display_data"
    }
   ],
   "source": [
    "plt.plot(history.history['acc'], label = 'training')\n",
    "plt.plot(history.history['val_acc'], label = 'validation')\n",
    "plt.legend()"
   ]
  },
  {
   "cell_type": "code",
   "execution_count": null,
   "metadata": {},
   "outputs": [],
   "source": []
  }
 ],
 "metadata": {
  "kernelspec": {
   "display_name": "Python 3",
   "language": "python",
   "name": "python3"
  },
  "language_info": {
   "codemirror_mode": {
    "name": "ipython",
    "version": 3
   },
   "file_extension": ".py",
   "mimetype": "text/x-python",
   "name": "python",
   "nbconvert_exporter": "python",
   "pygments_lexer": "ipython3",
   "version": "3.6.5"
  }
 },
 "nbformat": 4,
 "nbformat_minor": 2
}
